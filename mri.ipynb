{
 "cells": [
  {
   "cell_type": "code",
   "execution_count": 2,
   "metadata": {},
   "outputs": [],
   "source": [
    "import cv2\n",
    "import os\n",
    "from PIL import Image\n",
    "import numpy as np"
   ]
  },
  {
   "cell_type": "code",
   "execution_count": 3,
   "metadata": {},
   "outputs": [],
   "source": [
    "data=[]\n",
    "paths=[]\n",
    "result=[]\n"
   ]
  },
  {
   "attachments": {},
   "cell_type": "markdown",
   "metadata": {},
   "source": [
    "r=dirpath,d=dirnames,f=filenames\n"
   ]
  },
  {
   "cell_type": "code",
   "execution_count": 4,
   "metadata": {},
   "outputs": [],
   "source": [
    "for r,d,f in os.walk(r\"C:\\\\Users\\\\Nishanth S\\\\Downloads\\\\brain tumor detection\\\\brain tumor detection\\\\yes\"):\n",
    "    for file in f:\n",
    "        if '.jpg' in file:\n",
    "            paths.append(os.path.join(r,file))\n",
    "    for path in paths:\n",
    "        img=Image.open(path)\n",
    "        img=img.resize((64,64))\n",
    "        img=np.array(img)\n",
    "        if (img.shape==(64,64,3)):\n",
    "            data.append(np.array(img))\n",
    "            result.append(1)\n",
    "            \n",
    "\n"
   ]
  },
  {
   "cell_type": "code",
   "execution_count": 5,
   "metadata": {},
   "outputs": [],
   "source": [
    "paths=[]\n",
    "for r,d,f in os.walk(r\"C:\\\\Users\\\\Nishanth S\\\\Downloads\\\\brain tumor detection\\\\brain tumor detection\\\\no\"):\n",
    "    for file in f:\n",
    "        if '.jpg' in file:\n",
    "            paths.append(os.path.join(r,file))\n",
    "for path in paths:\n",
    "    img=Image.open(path)\n",
    "    img=img.resize((64,64))\n",
    "    img=np.array(img)\n",
    "    if (img.shape==(64,64,3)):\n",
    "        data.append(np.array(img))\n",
    "        result.append(0)\n"
   ]
  },
  {
   "cell_type": "code",
   "execution_count": 6,
   "metadata": {},
   "outputs": [
    {
     "data": {
      "text/plain": [
       "(2891, 64, 64, 3)"
      ]
     },
     "execution_count": 6,
     "metadata": {},
     "output_type": "execute_result"
    }
   ],
   "source": [
    "data=np.array(data)\n",
    "data.shape"
   ]
  },
  {
   "cell_type": "code",
   "execution_count": 7,
   "metadata": {},
   "outputs": [
    {
     "name": "stdout",
     "output_type": "stream",
     "text": [
      "[1 1 1 ... 0 0 0]\n"
     ]
    }
   ],
   "source": [
    "result=np.array(result)\n",
    "print(result)"
   ]
  },
  {
   "cell_type": "code",
   "execution_count": 8,
   "metadata": {},
   "outputs": [
    {
     "data": {
      "text/plain": [
       "(2891,)"
      ]
     },
     "execution_count": 8,
     "metadata": {},
     "output_type": "execute_result"
    }
   ],
   "source": [
    "result.shape"
   ]
  },
  {
   "cell_type": "code",
   "execution_count": 9,
   "metadata": {},
   "outputs": [],
   "source": [
    "from sklearn.model_selection import train_test_split\n",
    "x_train,x_test,y_train,y_test=train_test_split(data,result,test_size=1/3,random_state=0)\n"
   ]
  },
  {
   "cell_type": "code",
   "execution_count": 10,
   "metadata": {},
   "outputs": [],
   "source": [
    "import tensorflow as tf\n",
    "from tensorflow import keras\n",
    "from keras.utils import normalize,to_categorical\n",
    "\n",
    "x_train=normalize(x_train,axis=1)\n",
    "x_test=normalize(x_test,axis=1)\n",
    "\n",
    "y_train=to_categorical(y_train,num_classes=2)\n",
    "y_test=to_categorical(y_test,num_classes=2)\n",
    "\n"
   ]
  },
  {
   "cell_type": "code",
   "execution_count": 11,
   "metadata": {},
   "outputs": [],
   "source": [
    "from keras.models import Sequential\n",
    "from keras.layers import Conv2D,MaxPooling2D,Activation,Dropout,Flatten,Dense\n",
    "\n",
    "model=Sequential()\n",
    "model.add(Conv2D(32,(3,3),input_shape=(64,64,3)))\n",
    "model.add(Activation('relu'))\n",
    "model.add(MaxPooling2D(pool_size=(2,2)))\n",
    "\n",
    "model.add(Conv2D(32,(3,3),kernel_initializer='he_uniform'))\n",
    "model.add(Activation('relu'))\n",
    "model.add(MaxPooling2D(pool_size=(2,2)))\n",
    "\n",
    "model.add(Conv2D(64,(3,3),kernel_initializer='he_uniform'))\n",
    "model.add(Activation('relu'))\n",
    "model.add(MaxPooling2D(pool_size=(2,2)))\n",
    "\n",
    "model.add(Flatten())\n",
    "model.add(Dense(64))\n",
    "model.add(Activation('relu'))\n",
    "model.add(Dropout(0.5))\n",
    "model.add(Dense(2))\n",
    "model.add(Activation('softmax'))\n"
   ]
  },
  {
   "cell_type": "code",
   "execution_count": 12,
   "metadata": {},
   "outputs": [],
   "source": [
    "model.compile(loss='categorical_crossentropy',optimizer='adam',metrics=['accuracy'])"
   ]
  },
  {
   "cell_type": "code",
   "execution_count": 13,
   "metadata": {},
   "outputs": [
    {
     "name": "stdout",
     "output_type": "stream",
     "text": [
      "Epoch 1/15\n",
      "78/78 [==============================] - 10s 102ms/step - loss: 0.5793 - accuracy: 0.6938 - val_loss: 0.4907 - val_accuracy: 0.7718\n",
      "Epoch 2/15\n",
      "78/78 [==============================] - 7s 90ms/step - loss: 0.4617 - accuracy: 0.8012 - val_loss: 0.4091 - val_accuracy: 0.8122\n",
      "Epoch 3/15\n",
      "78/78 [==============================] - 6s 73ms/step - loss: 0.3842 - accuracy: 0.8464 - val_loss: 0.3397 - val_accuracy: 0.8579\n",
      "Epoch 4/15\n",
      "78/78 [==============================] - 6s 78ms/step - loss: 0.3173 - accuracy: 0.8770 - val_loss: 0.2816 - val_accuracy: 0.8797\n",
      "Epoch 5/15\n",
      "78/78 [==============================] - 5s 69ms/step - loss: 0.2496 - accuracy: 0.9056 - val_loss: 0.2345 - val_accuracy: 0.9046\n",
      "Epoch 6/15\n",
      "78/78 [==============================] - 6s 81ms/step - loss: 0.1916 - accuracy: 0.9237 - val_loss: 0.1922 - val_accuracy: 0.9222\n",
      "Epoch 7/15\n",
      "78/78 [==============================] - 6s 76ms/step - loss: 0.1385 - accuracy: 0.9517 - val_loss: 0.1629 - val_accuracy: 0.9357\n",
      "Epoch 8/15\n",
      "78/78 [==============================] - 6s 72ms/step - loss: 0.1082 - accuracy: 0.9621 - val_loss: 0.1349 - val_accuracy: 0.9429\n",
      "Epoch 9/15\n",
      "78/78 [==============================] - 6s 73ms/step - loss: 0.0737 - accuracy: 0.9735 - val_loss: 0.1138 - val_accuracy: 0.9523\n",
      "Epoch 10/15\n",
      "78/78 [==============================] - 5s 69ms/step - loss: 0.0625 - accuracy: 0.9818 - val_loss: 0.1153 - val_accuracy: 0.9595\n",
      "Epoch 11/15\n",
      "78/78 [==============================] - 6s 71ms/step - loss: 0.0433 - accuracy: 0.9907 - val_loss: 0.1203 - val_accuracy: 0.9627\n",
      "Epoch 12/15\n",
      "78/78 [==============================] - 5s 70ms/step - loss: 0.0429 - accuracy: 0.9875 - val_loss: 0.1095 - val_accuracy: 0.9627\n",
      "Epoch 13/15\n",
      "78/78 [==============================] - 5s 70ms/step - loss: 0.0309 - accuracy: 0.9917 - val_loss: 0.1106 - val_accuracy: 0.9647\n",
      "Epoch 14/15\n",
      "78/78 [==============================] - 5s 70ms/step - loss: 0.0274 - accuracy: 0.9907 - val_loss: 0.1130 - val_accuracy: 0.9678\n",
      "Epoch 15/15\n",
      "78/78 [==============================] - 6s 72ms/step - loss: 0.0164 - accuracy: 0.9938 - val_loss: 0.1117 - val_accuracy: 0.9689\n"
     ]
    },
    {
     "data": {
      "text/plain": [
       "<keras.callbacks.History at 0x124c0d2e390>"
      ]
     },
     "execution_count": 13,
     "metadata": {},
     "output_type": "execute_result"
    }
   ],
   "source": [
    "model.fit(x_train,y_train,batch_size=25,verbose=1,epochs=15,validation_data=(x_test,y_test),shuffle=False)\n"
   ]
  },
  {
   "cell_type": "code",
   "execution_count": 14,
   "metadata": {},
   "outputs": [],
   "source": [
    "imag1=cv2.imread(\"C:\\\\Users\\\\Nishanth S\\\\Downloads\\\\brain tumor detection\\\\brain tumor detection\\\\no\\\\no60.jpg\")\n",
    "img=Image.fromarray(imag1)\n",
    "img=img.resize((64,64))\n",
    "img=np.array(img)\n",
    "input_image=np.expand_dims(img,axis=0)\n"
   ]
  },
  {
   "cell_type": "code",
   "execution_count": 15,
   "metadata": {},
   "outputs": [
    {
     "name": "stdout",
     "output_type": "stream",
     "text": [
      "1/1 [==============================] - 2s 2s/step\n",
      "0\n",
      "The MRI scan is healthy\n"
     ]
    }
   ],
   "source": [
    "output=model.predict(input_image)\n",
    "output=np.argmax(output)\n",
    "print(output)\n",
    "if output==0:\n",
    "    print(\"The MRI scan is healthy\")\n",
    "else:\n",
    "    print(\"The MRI scan has a brain tumor\")"
   ]
  },
  {
   "cell_type": "code",
   "execution_count": 16,
   "metadata": {},
   "outputs": [
    {
     "name": "stdout",
     "output_type": "stream",
     "text": [
      "1/1 [==============================] - 2s 2s/step\n",
      "1\n",
      "The MRI scan has a brain tumor\n"
     ]
    }
   ],
   "source": [
    "img2=cv2.imread(\"C:\\\\Users\\\\Nishanth S\\\\Downloads\\\\brain tumor detection\\\\brain tumor detection\\\\yes\\\\y825.jpg\")\n",
    "img1=Image.fromarray(img2)\n",
    "img1=img1.resize((64,64))\n",
    "img1=np.array(img1)\n",
    "input_image2=np.expand_dims(img1,axis=0)\n",
    "output=model.predict(input_image2)\n",
    "output=np.argmax(output)\n",
    "print(output)\n",
    "if output==0:\n",
    "    print(\"The MRI scan is healthy\")        \n",
    "else:\n",
    "     print(\"The MRI scan has a brain tumor\")"
   ]
  },
  {
   "cell_type": "code",
   "execution_count": 17,
   "metadata": {},
   "outputs": [],
   "source": [
    "model.save(\"braintumorcat.h5\")\n"
   ]
  },
  {
   "cell_type": "code",
   "execution_count": null,
   "metadata": {},
   "outputs": [],
   "source": []
  }
 ],
 "metadata": {
  "kernelspec": {
   "display_name": "Python 3",
   "language": "python",
   "name": "python3"
  },
  "language_info": {
   "codemirror_mode": {
    "name": "ipython",
    "version": 3
   },
   "file_extension": ".py",
   "mimetype": "text/x-python",
   "name": "python",
   "nbconvert_exporter": "python",
   "pygments_lexer": "ipython3",
   "version": "3.11.1"
  },
  "orig_nbformat": 4
 },
 "nbformat": 4,
 "nbformat_minor": 2
}
